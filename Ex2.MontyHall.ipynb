{
 "cells": [
  {
   "cell_type": "code",
   "execution_count": 25,
   "id": "ae66f2f9",
   "metadata": {},
   "outputs": [
    {
     "name": "stdout",
     "output_type": "stream",
     "text": [
      "The watermark extension is already loaded. To reload it, use:\n",
      "  %reload_ext watermark\n",
      "numpy      : 1.23.5\n",
      "scipy      : 1.10.0\n",
      "pomegranate: 0.14.4\n",
      "\n",
      "Compiler    : MSC v.1916 64 bit (AMD64)\n",
      "OS          : Windows\n",
      "Release     : 10\n",
      "Machine     : AMD64\n",
      "Processor   : Intel64 Family 6 Model 165 Stepping 2, GenuineIntel\n",
      "CPU cores   : 8\n",
      "Architecture: 64bit\n",
      "\n"
     ]
    }
   ],
   "source": [
    "%matplotlib inline\n",
    "import matplotlib.pyplot as plt\n",
    "import seaborn; seaborn.set_style('whitegrid')\n",
    "import numpy\n",
    "import tempfile\n",
    "import pygraphviz\n",
    "import matplotlib\n",
    "\n",
    "from pomegranate import *\n",
    "\n",
    "numpy.random.seed(0)\n",
    "numpy.set_printoptions(suppress=True)\n",
    "\n",
    "%load_ext watermark\n",
    "%watermark -m -n -p numpy,scipy,pomegranate"
   ]
  },
  {
   "cell_type": "code",
   "execution_count": 26,
   "id": "744147e5",
   "metadata": {},
   "outputs": [],
   "source": [
    "# The guests initial door selection is completely random\n",
    "guest = DiscreteDistribution({'A': 1./3, 'B': 1./3, 'C': 1./3})\n",
    "\n",
    "# The door the prize is behind is also completely random\n",
    "prize = DiscreteDistribution({'A': 1./3, 'B': 1./3, 'C': 1./3})\n",
    "\n",
    "# Monty is dependent on both the guest and the prize. \n",
    "# modificam tabelul astfel incat:\n",
    "# daca guest-ul alege prima usa, 60% sanse ca host-ul sa deschida a 2-a usa si 40% sanse sa deschida a 3-a\n",
    "# daca guest-ul alege a 2-a usa, 60% sanse ca host-ul sa deschida prima usa si 40% sanse sa deschida a 3-a\n",
    "# daca guest-ul alege a 3-a usa, 60% sanse ca host-ul sa deschida a 2-a usa so 40% sanse sa deschida prima\n",
    "monty = ConditionalProbabilityTable(\n",
    "        [[ 'A', 'A', 'A', 0.0 ],\n",
    "         [ 'A', 'A', 'B', 0.6 ],\n",
    "         [ 'A', 'A', 'C', 0.4 ],\n",
    "         [ 'A', 'B', 'A', 0.0 ],\n",
    "         [ 'A', 'B', 'B', 0.0 ],\n",
    "         [ 'A', 'B', 'C', 1.0 ],\n",
    "         [ 'A', 'C', 'A', 0.0 ],\n",
    "         [ 'A', 'C', 'B', 1.0 ],\n",
    "         [ 'A', 'C', 'C', 0.0 ],\n",
    "         [ 'B', 'A', 'A', 0.0 ],\n",
    "         [ 'B', 'A', 'B', 0.0 ],\n",
    "         [ 'B', 'A', 'C', 1.0 ],\n",
    "         [ 'B', 'B', 'A', 0.6 ],\n",
    "         [ 'B', 'B', 'B', 0.0 ],\n",
    "         [ 'B', 'B', 'C', 0.4 ],\n",
    "         [ 'B', 'C', 'A', 1.0 ],\n",
    "         [ 'B', 'C', 'B', 0.0 ],\n",
    "         [ 'B', 'C', 'C', 0.0 ],\n",
    "         [ 'C', 'A', 'A', 0.0 ],\n",
    "         [ 'C', 'A', 'B', 1.0 ],\n",
    "         [ 'C', 'A', 'C', 0.0 ],\n",
    "         [ 'C', 'B', 'A', 1.0 ],\n",
    "         [ 'C', 'B', 'B', 0.0 ],\n",
    "         [ 'C', 'B', 'C', 0.0 ],\n",
    "         [ 'C', 'C', 'A', 0.4 ],\n",
    "         [ 'C', 'C', 'B', 0.6 ],\n",
    "         [ 'C', 'C', 'C', 0.0 ]], [guest, prize]) "
   ]
  },
  {
   "cell_type": "code",
   "execution_count": 27,
   "id": "7e91dfed",
   "metadata": {},
   "outputs": [],
   "source": [
    "s1# State objects hold both the distribution, and a high level name.\n",
    "s1 = State(guest, name=\"Guest\")\n",
    "s2 = State(prize, name=\"Prize\")\n",
    "s3 = State(monty, name=\"Monty\")\n",
    "\n",
    "# Create the Bayesian network object with a useful name\n",
    "model = BayesianNetwork(\"Monty Hall Problem\")\n",
    "\n",
    "# Add the three states to the network \n",
    "model.add_states(s1, s2, s3)\n",
    "\n",
    "# Add edges which represent conditional dependencies, where the second node is \n",
    "# conditionally dependent on the first node (Monty is dependent on both guest and prize)\n",
    "model.add_edge(s1, s3)\n",
    "model.add_edge(s2, s3)\n",
    "\n",
    "model.bake()"
   ]
  },
  {
   "cell_type": "code",
   "execution_count": 15,
   "id": "1a9c666a",
   "metadata": {},
   "outputs": [
    {
     "data": {
      "text/plain": [
       "{\n",
       "    \"class\" : \"State\",\n",
       "    \"distribution\" : {\n",
       "        \"class\" : \"Distribution\",\n",
       "        \"dtype\" : \"str\",\n",
       "        \"name\" : \"DiscreteDistribution\",\n",
       "        \"parameters\" : [\n",
       "            {\n",
       "                \"A\" : 0.3333333333333333,\n",
       "                \"B\" : 0.3333333333333333,\n",
       "                \"C\" : 0.3333333333333333\n",
       "            }\n",
       "        ],\n",
       "        \"frozen\" : false\n",
       "    },\n",
       "    \"name\" : \"Guest\",\n",
       "    \"weight\" : 1.0\n",
       "}"
      ]
     },
     "execution_count": 15,
     "metadata": {},
     "output_type": "execute_result"
    }
   ],
   "source": [
    "s1"
   ]
  },
  {
   "cell_type": "code",
   "execution_count": 16,
   "id": "7563b91c",
   "metadata": {},
   "outputs": [
    {
     "data": {
      "text/plain": [
       "0.11111111111111109"
      ]
     },
     "execution_count": 16,
     "metadata": {},
     "output_type": "execute_result"
    }
   ],
   "source": [
    "model.probability(numpy.array(['A', 'B', 'C'], ndmin=2))"
   ]
  },
  {
   "cell_type": "code",
   "execution_count": 18,
   "id": "648b5298",
   "metadata": {},
   "outputs": [
    {
     "data": {
      "text/plain": [
       "array([{\n",
       "           \"class\" : \"Distribution\",\n",
       "           \"dtype\" : \"str\",\n",
       "           \"name\" : \"DiscreteDistribution\",\n",
       "           \"parameters\" : [\n",
       "               {\n",
       "                   \"A\" : 0.3333333333333333,\n",
       "                   \"B\" : 0.3333333333333333,\n",
       "                   \"C\" : 0.3333333333333333\n",
       "               }\n",
       "           ],\n",
       "           \"frozen\" : false\n",
       "       }                                    ,\n",
       "       {\n",
       "           \"class\" : \"Distribution\",\n",
       "           \"dtype\" : \"str\",\n",
       "           \"name\" : \"DiscreteDistribution\",\n",
       "           \"parameters\" : [\n",
       "               {\n",
       "                   \"A\" : 0.3333333333333333,\n",
       "                   \"B\" : 0.3333333333333333,\n",
       "                   \"C\" : 0.3333333333333333\n",
       "               }\n",
       "           ],\n",
       "           \"frozen\" : false\n",
       "       }                                    ,\n",
       "       {\n",
       "           \"class\" : \"Distribution\",\n",
       "           \"dtype\" : \"str\",\n",
       "           \"name\" : \"DiscreteDistribution\",\n",
       "           \"parameters\" : [\n",
       "               {\n",
       "                   \"A\" : 0.33333333333333337,\n",
       "                   \"B\" : 0.3555555555555555,\n",
       "                   \"C\" : 0.3111111111111112\n",
       "               }\n",
       "           ],\n",
       "           \"frozen\" : false\n",
       "       }                                     ], dtype=object)"
      ]
     },
     "execution_count": 18,
     "metadata": {},
     "output_type": "execute_result"
    }
   ],
   "source": [
    "model.predict_proba({})"
   ]
  },
  {
   "cell_type": "markdown",
   "id": "8d83e63f",
   "metadata": {},
   "source": [
    "### Putem observa ca pentru ultimul state, adica probabilitatea pentru care Monty deschide o usa, nu mai avem o distributie uniforma a probabilitatilor, data fiind asumptia ca host-ul e lenes. \n",
    "\n",
    "### A 2-a usa (Usa B) are de 2 ori 60% si 1 data 40% sanse de deschidere, pe vreme ce a 3-a usa (Usa C) are de 1 data 60% si de 2 ori 40% sanse de deschidere. Pentru prima usa (Usa A) avem1 1 data 60% si 1 data 40% => ramane la fel"
   ]
  },
  {
   "cell_type": "code",
   "execution_count": 22,
   "id": "2d4adfb3",
   "metadata": {},
   "outputs": [
    {
     "data": {
      "text/plain": [
       "[array(['A', {\n",
       "                 \"class\" : \"Distribution\",\n",
       "                 \"dtype\" : \"str\",\n",
       "                 \"name\" : \"DiscreteDistribution\",\n",
       "                 \"parameters\" : [\n",
       "                     {\n",
       "                         \"A\" : 0.3333333333333334,\n",
       "                         \"B\" : 0.3333333333333333,\n",
       "                         \"C\" : 0.3333333333333333\n",
       "                     }\n",
       "                 ],\n",
       "                 \"frozen\" : false\n",
       "             }                                    ,\n",
       "        {\n",
       "            \"class\" : \"Distribution\",\n",
       "            \"dtype\" : \"str\",\n",
       "            \"name\" : \"DiscreteDistribution\",\n",
       "            \"parameters\" : [\n",
       "                {\n",
       "                    \"A\" : 0.0,\n",
       "                    \"B\" : 0.5333333333333332,\n",
       "                    \"C\" : 0.46666666666666656\n",
       "                }\n",
       "            ],\n",
       "            \"frozen\" : false\n",
       "        }                                    ], dtype=object)]"
      ]
     },
     "execution_count": 22,
     "metadata": {},
     "output_type": "execute_result"
    }
   ],
   "source": [
    "model.predict_proba(numpy.array(['A', None, None], ndmin=2))"
   ]
  },
  {
   "cell_type": "markdown",
   "id": "625c0baf",
   "metadata": {},
   "source": [
    "### Aici putem observa diferenta de probabilitati in cazul in care invitatul alege usa A. Monty este mai probabil sa deschida usa B deoarece este mai aproape de usa A."
   ]
  },
  {
   "cell_type": "code",
   "execution_count": 20,
   "id": "da8128be",
   "metadata": {},
   "outputs": [
    {
     "data": {
      "text/plain": [
       "array(['A', {\n",
       "                \"class\" : \"Distribution\",\n",
       "                \"dtype\" : \"str\",\n",
       "                \"name\" : \"DiscreteDistribution\",\n",
       "                \"parameters\" : [\n",
       "                    {\n",
       "                        \"A\" : 0.2857142857142858,\n",
       "                        \"B\" : 0.7142857142857141,\n",
       "                        \"C\" : 0.0\n",
       "                    }\n",
       "                ],\n",
       "                \"frozen\" : false\n",
       "            }                                    , 'C'], dtype=object)"
      ]
     },
     "execution_count": 20,
     "metadata": {},
     "output_type": "execute_result"
    }
   ],
   "source": [
    "model.predict_proba({'Guest': 'A', 'Monty': 'C'})"
   ]
  },
  {
   "cell_type": "markdown",
   "id": "f2081d7a",
   "metadata": {},
   "source": [
    "### Initial, probabilitatea ca invitatul sa castige daca schimba usile, era de 66%, cu asumptia ca host-ul e lenes, putem observa ca aceasta probabilitate a crescut la ~71%\n",
    "\n",
    "### P(win by switching) = P(Monty opens door B) * P(win by switching given Monty opens door B) + P(Monty opens door A) * P(win by switching given Monty opens door A)"
   ]
  },
  {
   "cell_type": "code",
   "execution_count": 28,
   "id": "dfd48db2",
   "metadata": {},
   "outputs": [],
   "source": [
    "def plot(model, filename=None):\n",
    "        \"\"\"Draw this model's graph using pygraphviz.\n",
    "        Returns\n",
    "        -------\n",
    "        None\n",
    "        \"\"\"\n",
    "\n",
    "        if pygraphviz is not None:\n",
    "            G = pygraphviz.AGraph(directed=True)\n",
    "\n",
    "            for state in model.states:\n",
    "                G.add_node(state.name, color='red')\n",
    "\n",
    "            for parent, child in model.edges:\n",
    "                G.add_edge(parent.name, child.name)\n",
    "\n",
    "            if filename is None:\n",
    "                with tempfile.NamedTemporaryFile(mode='w+b') as tf: # w+b is default mode already, just to make sure\n",
    "                    G.draw(tf, format='png', prog='dot')\n",
    "                    img = matplotlib.image.imread(tf)\n",
    "                    plt.imshow(img)\n",
    "                    plt.axis('off')\n",
    "            else:\n",
    "                G.draw(filename, format='pdf', prog='dot')\n",
    "\n",
    "        else:\n",
    "            raise ValueError(\"must have matplotlib and pygraphviz installed for visualization\")"
   ]
  },
  {
   "cell_type": "code",
   "execution_count": 29,
   "id": "8228bdc1",
   "metadata": {},
   "outputs": [
    {
     "data": {
      "image/png": "[encoded data removed]",
      "text/plain": [
       "<Figure size 640x480 with 1 Axes>"
      ]
     },
     "metadata": {},
     "output_type": "display_data"
    }
   ],
   "source": [
    "plot(model)"
   ]
  },
  {
   "cell_type": "code",
   "execution_count": null,
   "id": "10cb8c8e",
   "metadata": {},
   "outputs": [],
   "source": []
  }
 ],
 "metadata": {
  "kernelspec": {
   "display_name": "Python 3 (ipykernel)",
   "language": "python",
   "name": "python3"
  },
  "language_info": {
   "codemirror_mode": {
    "name": "ipython",
    "version": 3
   },
   "file_extension": ".py",
   "mimetype": "text/x-python",
   "name": "python",
   "nbconvert_exporter": "python",
   "pygments_lexer": "ipython3",
   "version": "3.9.16"
  }
 },
 "nbformat": 4,
 "nbformat_minor": 5
}
